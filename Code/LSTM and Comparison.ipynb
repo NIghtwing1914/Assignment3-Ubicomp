{
 "cells": [
  {
   "cell_type": "markdown",
   "id": "8b9d77cf",
   "metadata": {},
   "source": [
    "Basic Imports"
   ]
  },
  {
   "cell_type": "code",
   "execution_count": 89,
   "id": "41712303",
   "metadata": {},
   "outputs": [],
   "source": [
    "import numpy as np\n",
    "import sklearn\n",
    "import math"
   ]
  },
  {
   "cell_type": "code",
   "execution_count": 90,
   "id": "d8c9d961",
   "metadata": {},
   "outputs": [],
   "source": [
    "from numpy import mean\n",
    "from numpy import std\n",
    "from numpy import dstack\n",
    "from pandas import read_csv\n",
    "from keras.models import Sequential\n",
    "from keras.layers import Dense\n",
    "from keras.layers import Flatten\n",
    "from keras.layers import Dropout\n",
    "from keras.layers import SimpleRNN\n",
    "from keras.layers import LSTM\n",
    "from tensorflow.keras.utils import to_categorical\n",
    "from matplotlib import pyplot\n",
    "from keras.models import load_model\n",
    "from keras.utils.vis_utils import model_to_dot\n",
    "from IPython.display import SVG"
   ]
  },
  {
   "cell_type": "markdown",
   "id": "704e41f1",
   "metadata": {},
   "source": [
    "Processing the Dataset"
   ]
  },
  {
   "cell_type": "code",
   "execution_count": 91,
   "id": "bc97368b",
   "metadata": {},
   "outputs": [],
   "source": [
    "ax_train_file = open('total_acc_x_train.txt', 'r')\n",
    "ay_train_file= open('total_acc_y_train.txt','r')\n",
    "az_train_file= open('total_acc_z_train.txt','r')\n",
    "\n",
    "ax_train = []\n",
    "ay_train = []\n",
    "az_train = []\n",
    "\n",
    "# labels = {1:'WALKING', 2:'WALKING UPSTAIRS', 3:'WALKING DOWNSTAIRS',\n",
    "#           4:'SITTING', 5:'STANDING', 6:'LAYING'}\n",
    "\n",
    "# # Loop through datasets\n",
    "for x in ax_train_file:\n",
    "    ax_train.append([float(ts) for ts in x.split()])\n",
    "    \n",
    "for y in ay_train_file:\n",
    "    ay_train.append([float(ts) for ts in y.split()])\n",
    "    \n",
    "for z in az_train_file:\n",
    "    az_train.append([float(ts) for ts in z.split()])\n",
    "\n",
    "ax_train = np.array(ax_train)\n",
    "ay_train = np.array(ay_train)\n",
    "az_train = np.array(az_train)"
   ]
  },
  {
   "cell_type": "code",
   "execution_count": 92,
   "id": "f3de3b49",
   "metadata": {},
   "outputs": [
    {
     "data": {
      "text/plain": [
       "(7352, 128)"
      ]
     },
     "execution_count": 92,
     "metadata": {},
     "output_type": "execute_result"
    }
   ],
   "source": [
    "ax_train.shape"
   ]
  },
  {
   "cell_type": "code",
   "execution_count": 93,
   "id": "b989d2b8",
   "metadata": {},
   "outputs": [
    {
     "data": {
      "text/plain": [
       "(7352, 128)"
      ]
     },
     "execution_count": 93,
     "metadata": {},
     "output_type": "execute_result"
    }
   ],
   "source": [
    "ay_train.shape"
   ]
  },
  {
   "cell_type": "code",
   "execution_count": 94,
   "id": "cce1d71e",
   "metadata": {},
   "outputs": [],
   "source": [
    "X_train=np.sqrt(ax_train**2 + ay_train**2 + az_train**2)"
   ]
  },
  {
   "cell_type": "code",
   "execution_count": 95,
   "id": "8087131f",
   "metadata": {},
   "outputs": [
    {
     "data": {
      "text/plain": [
       "(7352, 128)"
      ]
     },
     "execution_count": 95,
     "metadata": {},
     "output_type": "execute_result"
    }
   ],
   "source": [
    "X_train.shape"
   ]
  },
  {
   "cell_type": "code",
   "execution_count": 96,
   "id": "48443463",
   "metadata": {},
   "outputs": [],
   "source": [
    "ax_test_file = open('total_acc_x_test.txt', 'r')\n",
    "ay_test_file= open('total_acc_y_test.txt','r')\n",
    "az_test_file= open('total_acc_z_test.txt','r')\n",
    "\n",
    "ax_test = []\n",
    "ay_test = []\n",
    "az_test = []\n",
    "\n",
    "# labels = {1:'WALKING', 2:'WALKING UPSTAIRS', 3:'WALKING DOWNSTAIRS',\n",
    "#           4:'SITTING', 5:'STANDING', 6:'LAYING'}\n",
    "\n",
    "# # Loop through datasets\n",
    "for x in ax_test_file:\n",
    "    ax_test.append([float(ts) for ts in x.split()])\n",
    "    \n",
    "for y in ay_test_file:\n",
    "    ay_test.append([float(ts) for ts in y.split()])\n",
    "    \n",
    "for z in az_test_file:\n",
    "    az_test.append([float(ts) for ts in z.split()])\n",
    "\n",
    "ax_test = np.array(ax_test)\n",
    "ay_test = np.array(ay_test)\n",
    "az_test = np.array(az_test)"
   ]
  },
  {
   "cell_type": "code",
   "execution_count": 97,
   "id": "7848fa00",
   "metadata": {},
   "outputs": [],
   "source": [
    "X_test=np.sqrt(ax_test**2 + ay_test**2 + az_test**2)"
   ]
  },
  {
   "cell_type": "code",
   "execution_count": 98,
   "id": "f9fd0e02",
   "metadata": {},
   "outputs": [],
   "source": [
    "y_test = []\n",
    "\n",
    "y_test_file = open('y_test.txt', 'r')\n",
    "\n",
    "for y in y_test_file:\n",
    "    y_test.append(int(y.rstrip('\\n')))\n",
    "    \n",
    "y_test = np.array(y_test)\n"
   ]
  },
  {
   "cell_type": "code",
   "execution_count": 99,
   "id": "c878cced",
   "metadata": {},
   "outputs": [],
   "source": [
    "y_train = []\n",
    "\n",
    "y_train_file = open('y_train.txt', 'r')\n",
    "\n",
    "for y in y_train_file:\n",
    "    y_train.append(int(y.rstrip('\\n')))\n",
    "    \n",
    "y_train = np.array(y_train)"
   ]
  },
  {
   "cell_type": "code",
   "execution_count": 100,
   "id": "8fdd4543",
   "metadata": {},
   "outputs": [
    {
     "data": {
      "text/plain": [
       "(7352,)"
      ]
     },
     "execution_count": 100,
     "metadata": {},
     "output_type": "execute_result"
    }
   ],
   "source": [
    "y_train.shape"
   ]
  },
  {
   "cell_type": "code",
   "execution_count": 101,
   "id": "3a2994d8",
   "metadata": {},
   "outputs": [
    {
     "data": {
      "text/plain": [
       "(2947,)"
      ]
     },
     "execution_count": 101,
     "metadata": {},
     "output_type": "execute_result"
    }
   ],
   "source": [
    "y_test.shape"
   ]
  },
  {
   "cell_type": "markdown",
   "id": "228ec642",
   "metadata": {},
   "source": [
    "kNN on Raw Data"
   ]
  },
  {
   "cell_type": "code",
   "execution_count": 52,
   "id": "4f6ab3b6",
   "metadata": {},
   "outputs": [],
   "source": [
    "import sys\n",
    "import collections\n",
    "import itertools\n",
    "import numpy as np\n",
    "import matplotlib.pyplot as plt\n",
    "from scipy.stats import mode\n",
    "from scipy.spatial.distance import squareform\n",
    "\n",
    "plt.style.use('bmh')\n",
    "%matplotlib inline\n",
    "\n",
    "try:\n",
    "    from IPython.display import clear_output\n",
    "    have_ipython = True\n",
    "except ImportError:\n",
    "    have_ipython = False\n",
    "\n",
    "class KnnDtw(object):\n",
    "    \"\"\"K-nearest neighbor classifier using dynamic time warping\n",
    "    as the distance measure between pairs of time series arrays\n",
    "    \n",
    "    Arguments\n",
    "    ---------\n",
    "    n_neighbors : int, optional (default = 5)\n",
    "        Number of neighbors to use by default for KNN\n",
    "        \n",
    "    max_warping_window : int, optional (default = infinity)\n",
    "        Maximum warping window allowed by the DTW dynamic\n",
    "        programming function\n",
    "            \n",
    "    subsample_step : int, optional (default = 1)\n",
    "        Step size for the timeseries array. By setting subsample_step = 2,\n",
    "        the timeseries length will be reduced by 50% because every second\n",
    "        item is skipped. Implemented by x[:, ::subsample_step]\n",
    "    \"\"\"\n",
    "    \n",
    "    def __init__(self, n_neighbors=5, max_warping_window=10000, subsample_step=1):\n",
    "        self.n_neighbors = n_neighbors\n",
    "        self.max_warping_window = max_warping_window\n",
    "        self.subsample_step = subsample_step\n",
    "    \n",
    "    def fit(self, x, l):\n",
    "        \"\"\"Fit the model using x as training data and l as class labels\n",
    "        \n",
    "        Arguments\n",
    "        ---------\n",
    "        x : array of shape [n_samples, n_timepoints]\n",
    "            Training data set for input into KNN classifer\n",
    "            \n",
    "        l : array of shape [n_samples]\n",
    "            Training labels for input into KNN classifier\n",
    "        \"\"\"\n",
    "        \n",
    "        self.x = x\n",
    "        self.l = l\n",
    "        \n",
    "    def _dtw_distance(self, ts_a, ts_b, d = lambda x,y: abs(x-y)):\n",
    "        \"\"\"Returns the DTW similarity distance between two 2-D\n",
    "        timeseries numpy arrays.\n",
    "\n",
    "        Arguments\n",
    "        ---------\n",
    "        ts_a, ts_b : array of shape [n_samples, n_timepoints]\n",
    "            Two arrays containing n_samples of timeseries data\n",
    "            whose DTW distance between each sample of A and B\n",
    "            will be compared\n",
    "        \n",
    "        d : DistanceMetric object (default = abs(x-y))\n",
    "            the distance measure used for A_i - B_j in the\n",
    "            DTW dynamic programming function\n",
    "        \n",
    "        Returns\n",
    "        -------\n",
    "        DTW distance between A and B\n",
    "        \"\"\"\n",
    "\n",
    "        # Create cost matrix via broadcasting with large int\n",
    "        ts_a, ts_b = np.array(ts_a), np.array(ts_b)\n",
    "        M, N = len(ts_a), len(ts_b)\n",
    "        cost = sys.maxsize * np.ones((M, N))\n",
    "\n",
    "        # Initialize the first row and column\n",
    "        cost[0, 0] = d(ts_a[0], ts_b[0])\n",
    "        for i in range(1, M):\n",
    "            cost[i, 0] = cost[i-1, 0] + d(ts_a[i], ts_b[0])\n",
    "\n",
    "        for j in range(1, N):\n",
    "            cost[0, j] = cost[0, j-1] + d(ts_a[0], ts_b[j])\n",
    "\n",
    "        # Populate rest of cost matrix within window\n",
    "        for i in range(1, M):\n",
    "            for j in range(max(1, i - self.max_warping_window),\n",
    "                            min(N, i + self.max_warping_window)):\n",
    "                choices = cost[i - 1, j - 1], cost[i, j-1], cost[i-1, j]\n",
    "                cost[i, j] = min(choices) + d(ts_a[i], ts_b[j])\n",
    "\n",
    "        # Return DTW distance given window \n",
    "        return cost[-1, -1]\n",
    "    \n",
    "    def _dist_matrix(self, x, y):\n",
    "        \"\"\"Computes the M x N distance matrix between the training\n",
    "        dataset and testing dataset (y) using the DTW distance measure\n",
    "        \n",
    "        Arguments\n",
    "        ---------\n",
    "        x : array of shape [n_samples, n_timepoints]\n",
    "        \n",
    "        y : array of shape [n_samples, n_timepoints]\n",
    "        \n",
    "        Returns\n",
    "        -------\n",
    "        Distance matrix between each item of x and y with\n",
    "            shape [training_n_samples, testing_n_samples]\n",
    "        \"\"\"\n",
    "        \n",
    "        # Compute the distance matrix        \n",
    "        dm_count = 0\n",
    "        \n",
    "        # Compute condensed distance matrix (upper triangle) of pairwise dtw distances\n",
    "        # when x and y are the same array\n",
    "        if(np.array_equal(x, y)):\n",
    "            x_s = np.shape(x)\n",
    "            dm = np.zeros((x_s[0] * (x_s[0] - 1)) // 2, dtype=np.double)\n",
    "            \n",
    "            p = ProgressBar(shape(dm)[0])\n",
    "            \n",
    "            for i in range(0, x_s[0] - 1):\n",
    "                for j in range(i + 1, x_s[0]):\n",
    "                    dm[dm_count] = self._dtw_distance(x[i, ::self.subsample_step],\n",
    "                                                      y[j, ::self.subsample_step])\n",
    "                    \n",
    "                    dm_count += 1\n",
    "                    p.animate(dm_count)\n",
    "            \n",
    "            # Convert to squareform\n",
    "            dm = squareform(dm)\n",
    "            return dm\n",
    "        \n",
    "        # Compute full distance matrix of dtw distnces between x and y\n",
    "        else:\n",
    "            x_s = np.shape(x)\n",
    "            y_s = np.shape(y)\n",
    "            dm = np.zeros((x_s[0], y_s[0])) \n",
    "            dm_size = x_s[0]*y_s[0]\n",
    "            \n",
    "            p = ProgressBar(dm_size)\n",
    "        \n",
    "            for i in range(0, x_s[0]):\n",
    "                for j in range(0, y_s[0]):\n",
    "                    dm[i, j] = self._dtw_distance(x[i, ::self.subsample_step],\n",
    "                                                  y[j, ::self.subsample_step])\n",
    "                    # Update progress bar\n",
    "                    dm_count += 1\n",
    "                    p.animate(dm_count)\n",
    "        \n",
    "            return dm\n",
    "        \n",
    "    def predict(self, x):\n",
    "        \"\"\"Predict the class labels or probability estimates for \n",
    "        the provided data\n",
    "\n",
    "        Arguments\n",
    "        ---------\n",
    "          x : array of shape [n_samples, n_timepoints]\n",
    "              Array containing the testing data set to be classified\n",
    "          \n",
    "        Returns\n",
    "        -------\n",
    "          2 arrays representing:\n",
    "              (1) the predicted class labels \n",
    "              (2) the knn label count probability\n",
    "        \"\"\"\n",
    "        \n",
    "        dm = self._dist_matrix(x, self.x)\n",
    "\n",
    "        # Identify the k nearest neighbors\n",
    "        knn_idx = dm.argsort()[:, :self.n_neighbors]\n",
    "\n",
    "        # Identify k nearest labels\n",
    "        knn_labels = self.l[knn_idx]\n",
    "        \n",
    "        # Model Label\n",
    "        mode_data = mode(knn_labels, axis=1)\n",
    "        mode_label = mode_data[0]\n",
    "        mode_proba = mode_data[1]/self.n_neighbors\n",
    "\n",
    "        return mode_label.ravel(), mode_proba.ravel()\n",
    "\n",
    "class ProgressBar:\n",
    "    \"\"\"This progress bar was taken from PYMC\n",
    "    \"\"\"\n",
    "    def __init__(self, iterations):\n",
    "        self.iterations = iterations\n",
    "        self.prog_bar = '[]'\n",
    "        self.fill_char = '*'\n",
    "        self.width = 40\n",
    "        self.__update_amount(0)\n",
    "        if have_ipython:\n",
    "            self.animate = self.animate_ipython\n",
    "        else:\n",
    "            self.animate = self.animate_noipython\n",
    "\n",
    "    def animate_ipython(self, iter):\n",
    "        print(self,end=\"\\r\",flush=True)\n",
    "        self.update_iteration(iter + 1)\n",
    "\n",
    "    def update_iteration(self, elapsed_iter):\n",
    "        self.__update_amount((elapsed_iter / float(self.iterations)) * 100.0)\n",
    "        self.prog_bar += '  %d of %s complete' % (elapsed_iter, self.iterations)\n",
    "\n",
    "    def __update_amount(self, new_amount):\n",
    "        percent_done = int(round((new_amount / 100.0) * 100.0))\n",
    "        all_full = self.width - 2\n",
    "        num_hashes = int(round((percent_done / 100.0) * all_full))\n",
    "        self.prog_bar = '[' + self.fill_char * num_hashes + ' ' * (all_full - num_hashes) + ']'\n",
    "        pct_place = (len(self.prog_bar) // 2) - len(str(percent_done))\n",
    "        pct_string = '%d%%' % percent_done\n",
    "        self.prog_bar = self.prog_bar[0:pct_place] + \\\n",
    "            (pct_string + self.prog_bar[pct_place + len(pct_string):])\n",
    "\n",
    "    def __str__(self):\n",
    "        return str(self.prog_bar)"
   ]
  },
  {
   "cell_type": "code",
   "execution_count": 32,
   "id": "04c893e0",
   "metadata": {},
   "outputs": [
    {
     "name": "stdout",
     "output_type": "stream",
     "text": [
      "[****************100%******************]  217120 of 217120 complete\r"
     ]
    }
   ],
   "source": [
    "m = KnnDtw(n_neighbors=1, max_warping_window=100)\n",
    "m.fit(X_train[::10], y_train[::10])\n",
    "label, proba = m.predict(X_test[::10])"
   ]
  },
  {
   "cell_type": "code",
   "execution_count": 102,
   "id": "5aab18ad",
   "metadata": {},
   "outputs": [
    {
     "data": {
      "text/plain": [
       "(295,)"
      ]
     },
     "execution_count": 102,
     "metadata": {},
     "output_type": "execute_result"
    }
   ],
   "source": [
    "label.shape"
   ]
  },
  {
   "cell_type": "code",
   "execution_count": 103,
   "id": "4ace1a9a",
   "metadata": {},
   "outputs": [
    {
     "name": "stdout",
     "output_type": "stream",
     "text": [
      "                    precision    recall  f1-score   support\n",
      "\n",
      "           WALKING       0.94      0.87      0.90        54\n",
      "  WALKING UPSTAIRS       0.83      0.63      0.72        63\n",
      "WALKING DOWNSTAIRS       0.52      0.92      0.67        25\n",
      "           SITTING       0.65      0.49      0.56        67\n",
      "          STANDING       0.70      0.73      0.71        48\n",
      "            LAYING       0.62      0.84      0.71        38\n",
      "\n",
      "          accuracy                           0.71       295\n",
      "         macro avg       0.71      0.75      0.71       295\n",
      "      weighted avg       0.73      0.71      0.71       295\n",
      "\n"
     ]
    }
   ],
   "source": [
    "labels = {1:'WALKING', 2:'WALKING UPSTAIRS', 3:'WALKING DOWNSTAIRS',\n",
    "          4:'SITTING', 5:'STANDING', 6:'LAYING'}\n",
    "\n",
    "from sklearn.metrics import classification_report, confusion_matrix\n",
    "print (classification_report(label, y_test[::10],\n",
    "                            target_names=[l for l in labels.values()]))"
   ]
  },
  {
   "cell_type": "code",
   "execution_count": 104,
   "id": "3269ed63",
   "metadata": {},
   "outputs": [
    {
     "data": {
      "image/png": "[encoded data removed]",
      "text/plain": [
       "<Figure size 432x432 with 2 Axes>"
      ]
     },
     "metadata": {
      "needs_background": "light"
     },
     "output_type": "display_data"
    }
   ],
   "source": [
    "conf_mat = confusion_matrix(label, y_test[::10])\n",
    "\n",
    "fig = plt.figure(figsize=(6,6))\n",
    "width = np.shape(conf_mat)[1]\n",
    "height = np.shape(conf_mat)[0]\n",
    "\n",
    "res = plt.imshow(np.array(conf_mat), cmap=plt.cm.summer, interpolation='nearest')\n",
    "for i, row in enumerate(conf_mat):\n",
    "    for j, c in enumerate(row):\n",
    "        if c>0:\n",
    "            plt.text(j-.2, i+.1, c, fontsize=16)\n",
    "            \n",
    "cb = fig.colorbar(res)\n",
    "plt.title('Confusion Matrix')\n",
    "_ = plt.xticks(range(6), [l for l in labels.values()], rotation=90)\n",
    "_ = plt.yticks(range(6), [l for l in labels.values()])"
   ]
  },
  {
   "cell_type": "markdown",
   "id": "150d0759",
   "metadata": {},
   "source": [
    "Custom Feature Engineering"
   ]
  },
  {
   "cell_type": "code",
   "execution_count": 105,
   "id": "56af3b0b",
   "metadata": {},
   "outputs": [],
   "source": [
    "import tsfel"
   ]
  },
  {
   "cell_type": "code",
   "execution_count": 106,
   "id": "8229558b",
   "metadata": {},
   "outputs": [],
   "source": [
    "x_train=np.zeros(X_train[:,0].size)"
   ]
  },
  {
   "cell_type": "code",
   "execution_count": 107,
   "id": "68b23969",
   "metadata": {},
   "outputs": [],
   "source": [
    "for i in range(X_train[:,0].size):\n",
    "    x_train[i]=tsfel.feature_extraction.features.autocorr(X_train[i,:])"
   ]
  },
  {
   "cell_type": "code",
   "execution_count": 108,
   "id": "9a19d714",
   "metadata": {},
   "outputs": [],
   "source": [
    "X_train=x_train"
   ]
  },
  {
   "cell_type": "code",
   "execution_count": 109,
   "id": "e9d1e05a",
   "metadata": {},
   "outputs": [],
   "source": [
    "x_test=np.zeros(X_test[:,0].size)"
   ]
  },
  {
   "cell_type": "code",
   "execution_count": 110,
   "id": "3be589a4",
   "metadata": {},
   "outputs": [],
   "source": [
    "for i in range(X_test[:,0].size):\n",
    "    x_test[i]=tsfel.feature_extraction.features.autocorr(X_test[i,:])"
   ]
  },
  {
   "cell_type": "code",
   "execution_count": 111,
   "id": "89c02e23",
   "metadata": {},
   "outputs": [],
   "source": [
    "X_train=X_train.reshape(-1,1)"
   ]
  },
  {
   "cell_type": "code",
   "execution_count": 112,
   "id": "07f73941",
   "metadata": {},
   "outputs": [],
   "source": [
    "X_test=x_test"
   ]
  },
  {
   "cell_type": "code",
   "execution_count": 113,
   "id": "ad4ee442",
   "metadata": {},
   "outputs": [],
   "source": [
    "X_test=X_test.reshape(-1,1)"
   ]
  },
  {
   "cell_type": "code",
   "execution_count": 114,
   "id": "191f4d4d",
   "metadata": {},
   "outputs": [
    {
     "name": "stdout",
     "output_type": "stream",
     "text": [
      "Accuracy: 0.6145232439769257\n",
      "\n",
      " -------------Classification Report-------------\n",
      "\n",
      "              precision    recall  f1-score   support\n",
      "\n",
      "           1       0.44      0.84      0.58       496\n",
      "           2       0.34      0.05      0.09       471\n",
      "           3       0.64      0.49      0.55       420\n",
      "           4       0.61      0.56      0.58       491\n",
      "           5       0.71      0.85      0.78       532\n",
      "           6       0.84      0.82      0.83       537\n",
      "\n",
      "    accuracy                           0.61      2947\n",
      "   macro avg       0.60      0.60      0.57      2947\n",
      "weighted avg       0.60      0.61      0.58      2947\n",
      "\n"
     ]
    }
   ],
   "source": [
    "from sklearn.preprocessing import StandardScaler\n",
    "from sklearn.linear_model import LogisticRegression\n",
    "from sklearn.metrics import accuracy_score\n",
    "from sklearn.metrics import classification_report\n",
    "# standardization\n",
    "scaler = StandardScaler()\n",
    "scaler.fit(X_train)\n",
    "X_train_data_lr = scaler.transform(X_train)\n",
    "X_test_data_lr  = scaler.transform(X_test)\n",
    "# logistic regression model\n",
    "lr = LogisticRegression(random_state = 21,max_iter=1000)\n",
    "lr.fit(X_train_data_lr, y_train)\n",
    "y_pred = lr.predict(X_test_data_lr)\n",
    "print(\"Accuracy:\", accuracy_score(y_test, y_pred))\n",
    "print(\"\\n -------------Classification Report-------------\\n\")\n",
    "print(classification_report(y_test, y_pred))"
   ]
  },
  {
   "cell_type": "code",
   "execution_count": 115,
   "id": "576064d8",
   "metadata": {},
   "outputs": [
    {
     "data": {
      "image/png": "[encoded data removed]",
      "text/plain": [
       "<Figure size 432x432 with 2 Axes>"
      ]
     },
     "metadata": {
      "needs_background": "light"
     },
     "output_type": "display_data"
    }
   ],
   "source": [
    "conf_mat = confusion_matrix(y_pred, y_test)\n",
    "\n",
    "fig = plt.figure(figsize=(6,6))\n",
    "width = np.shape(conf_mat)[1]\n",
    "height = np.shape(conf_mat)[0]\n",
    "\n",
    "res = plt.imshow(np.array(conf_mat), cmap=plt.cm.summer, interpolation='nearest')\n",
    "for i, row in enumerate(conf_mat):\n",
    "    for j, c in enumerate(row):\n",
    "        if c>0:\n",
    "            plt.text(j-.2, i+.1, c, fontsize=16)\n",
    "            \n",
    "cb = fig.colorbar(res)\n",
    "plt.title('Confusion Matrix')\n",
    "_ = plt.xticks(range(6), [l for l in labels.values()], rotation=90)\n",
    "_ = plt.yticks(range(6), [l for l in labels.values()])"
   ]
  },
  {
   "cell_type": "code",
   "execution_count": 120,
   "id": "3443260b",
   "metadata": {},
   "outputs": [
    {
     "name": "stdout",
     "output_type": "stream",
     "text": [
      "0.9205746178983234\n"
     ]
    }
   ],
   "source": [
    "mse = sklearn.metrics.mean_squared_error(label,y_pred[::10])\n",
    "\n",
    "rmse = math.sqrt(mse)\n",
    "\n",
    "print(rmse)"
   ]
  },
  {
   "cell_type": "code",
   "execution_count": 121,
   "id": "62968a05",
   "metadata": {},
   "outputs": [
    {
     "name": "stdout",
     "output_type": "stream",
     "text": [
      "Accuracy: 0.6237288135593221\n"
     ]
    }
   ],
   "source": [
    "print(\"Accuracy:\", accuracy_score(label, y_pred[::10]))"
   ]
  },
  {
   "cell_type": "markdown",
   "id": "c60ac5af",
   "metadata": {},
   "source": [
    "Feature Engineering on Features already extracted in the paper"
   ]
  },
  {
   "cell_type": "code",
   "execution_count": 116,
   "id": "7d83802c",
   "metadata": {},
   "outputs": [],
   "source": [
    "x_train_file = open('UCI-HAR-Dataset/train/X_train.txt', 'r')\n",
    "y_train_file = open('UCI-HAR-Dataset/train/y_train.txt', 'r')\n",
    "\n",
    "x_test_file = open('UCI-HAR-Dataset/test/X_test.txt', 'r')\n",
    "y_test_file = open('UCI-HAR-Dataset/test/y_test.txt', 'r')\n",
    "\n",
    "# Create empty lists\n",
    "x_train = []\n",
    "y_train = []\n",
    "x_test = []\n",
    "y_test = []\n",
    "\n",
    "# Mapping table for classes\n",
    "labels = {1:'WALKING', 2:'WALKING UPSTAIRS', 3:'WALKING DOWNSTAIRS',\n",
    "          4:'SITTING', 5:'STANDING', 6:'LAYING'}\n",
    "\n",
    "# Loop through datasets\n",
    "for x in x_train_file:\n",
    "    x_train.append([float(ts) for ts in x.split()])\n",
    "    \n",
    "for y in y_train_file:\n",
    "    y_train.append(int(y.rstrip('\\n')))\n",
    "    \n",
    "for x in x_test_file:\n",
    "    x_test.append([float(ts) for ts in x.split()])\n",
    "    \n",
    "for y in y_test_file:\n",
    "    y_test.append(int(y.rstrip('\\n')))\n",
    "    \n",
    "# Convert to numpy for efficiency\n",
    "X_train = np.array(x_train)\n",
    "y_train = np.array(y_train)\n",
    "X_test = np.array(x_test)\n",
    "y_test = np.array(y_test)"
   ]
  },
  {
   "cell_type": "code",
   "execution_count": 122,
   "id": "c9267105",
   "metadata": {},
   "outputs": [
    {
     "name": "stdout",
     "output_type": "stream",
     "text": [
      "Accuracy: 0.9548693586698337\n",
      "\n",
      " -------------Classification Report-------------\n",
      "\n",
      "              precision    recall  f1-score   support\n",
      "\n",
      "           1       0.94      0.99      0.97       496\n",
      "           2       0.96      0.95      0.95       471\n",
      "           3       0.99      0.94      0.97       420\n",
      "           4       0.97      0.87      0.92       491\n",
      "           5       0.89      0.97      0.93       532\n",
      "           6       1.00      0.99      1.00       537\n",
      "\n",
      "    accuracy                           0.95      2947\n",
      "   macro avg       0.96      0.95      0.95      2947\n",
      "weighted avg       0.96      0.95      0.95      2947\n",
      "\n"
     ]
    }
   ],
   "source": [
    "from sklearn.preprocessing import StandardScaler\n",
    "from sklearn.linear_model import LogisticRegression\n",
    "from sklearn.metrics import accuracy_score\n",
    "from sklearn.metrics import classification_report\n",
    "# standardization\n",
    "scaler = StandardScaler()\n",
    "scaler.fit(X_train)\n",
    "X_train_data_lr = scaler.transform(X_train)\n",
    "X_test_data_lr  = scaler.transform(X_test)\n",
    "# logistic regression model\n",
    "lr = LogisticRegression(random_state = 21,max_iter=10000)\n",
    "lr.fit(X_train_data_lr, y_train)\n",
    "y_pred = lr.predict(X_test_data_lr)\n",
    "print(\"Accuracy:\", accuracy_score(y_test, y_pred))\n",
    "print(\"\\n -------------Classification Report-------------\\n\")\n",
    "print(classification_report(y_test, y_pred))"
   ]
  },
  {
   "cell_type": "code",
   "execution_count": 123,
   "id": "ab46cef9",
   "metadata": {},
   "outputs": [
    {
     "name": "stdout",
     "output_type": "stream",
     "text": [
      "0.7680042372764465\n"
     ]
    }
   ],
   "source": [
    "mse = sklearn.metrics.mean_squared_error(label,y_pred[::10])\n",
    "\n",
    "rmse = math.sqrt(mse)\n",
    "\n",
    "print(rmse)"
   ]
  },
  {
   "cell_type": "code",
   "execution_count": 126,
   "id": "1a6915ea",
   "metadata": {},
   "outputs": [
    {
     "name": "stdout",
     "output_type": "stream",
     "text": [
      "Accuracy: 0.7186440677966102\n"
     ]
    }
   ],
   "source": [
    "print(\"Accuracy:\", accuracy_score(label, y_pred[::10]))"
   ]
  },
  {
   "cell_type": "markdown",
   "id": "5a4b35bf",
   "metadata": {},
   "source": [
    "LSTM"
   ]
  },
  {
   "cell_type": "code",
   "execution_count": 127,
   "id": "a15f5672",
   "metadata": {},
   "outputs": [],
   "source": [
    "def load_file(filepath):\n",
    "    dataframe = read_csv(filepath, header=None, delim_whitespace=True)\n",
    "    return dataframe.values"
   ]
  },
  {
   "cell_type": "code",
   "execution_count": 128,
   "id": "2cbe5371",
   "metadata": {},
   "outputs": [],
   "source": [
    "def load_group(filenames, prefix=''):\n",
    "    loaded = list()\n",
    "    for name in filenames:\n",
    "        data = load_file(prefix + name)\n",
    "        loaded.append(data)\n",
    "    # stack group so that features are the 3rd dimension\n",
    "    loaded = dstack(loaded)\n",
    "    return loaded"
   ]
  },
  {
   "cell_type": "code",
   "execution_count": 129,
   "id": "64404bb5",
   "metadata": {},
   "outputs": [],
   "source": [
    "def load_dataset_group(group, prefix=''):\n",
    "    filepath = prefix + group + '/Inertial Signals/'\n",
    "    # load all 9 files as a single array\n",
    "    filenames = list()\n",
    "    # total acceleration\n",
    "    filenames += ['total_acc_x_'+group+'.txt', 'total_acc_y_'+group+'.txt', 'total_acc_z_'+group+'.txt']\n",
    "    # body acceleration\n",
    "    filenames += ['body_acc_x_'+group+'.txt', 'body_acc_y_'+group+'.txt', 'body_acc_z_'+group+'.txt']\n",
    "    # body gyroscope\n",
    "    filenames += ['body_gyro_x_'+group+'.txt', 'body_gyro_y_'+group+'.txt', 'body_gyro_z_'+group+'.txt']\n",
    "    # load input data\n",
    "    X = load_group(filenames, filepath)\n",
    "    # load class output\n",
    "    y = load_file(prefix + group + '/y_'+group+'.txt')\n",
    "    return X, y"
   ]
  },
  {
   "cell_type": "code",
   "execution_count": 130,
   "id": "3e3d3671",
   "metadata": {},
   "outputs": [],
   "source": [
    "def load_dataset(prefix=''):\n",
    "    # load all train\n",
    "    trainX, trainy = load_dataset_group('train', prefix + 'UCI-HAR-Dataset/')\n",
    "    print(trainX.shape, trainy.shape)\n",
    "    # load all test\n",
    "    testX, testy = load_dataset_group('test', prefix + 'UCI-HAR-Dataset/')\n",
    "    print(testX.shape, testy.shape)\n",
    "    # zero-offset class values\n",
    "    trainy = trainy - 1\n",
    "    testy = testy - 1\n",
    "    # one hot encode y\n",
    "    trainy = to_categorical(trainy)\n",
    "    testy = to_categorical(testy)\n",
    "    print(trainX.shape, trainy.shape, testX.shape, testy.shape)\n",
    "    return trainX, trainy, testX, testy"
   ]
  },
  {
   "cell_type": "code",
   "execution_count": 131,
   "id": "1eac3281",
   "metadata": {},
   "outputs": [],
   "source": [
    "def evaluate_LSTM_model(trainX, trainy, testX, testy):\n",
    "    verbose, epochs, batch_size = 0, 15, 64\n",
    "    n_timesteps, n_features, n_outputs = trainX.shape[1], trainX.shape[2], trainy.shape[1]\n",
    "    model = Sequential()\n",
    "    model.add(LSTM(100, input_shape=(n_timesteps,n_features)))\n",
    "    model.add(Dropout(0.5))\n",
    "    model.add(Dense(100, activation='relu'))\n",
    "    model.add(Dense(n_outputs, activation='softmax'))\n",
    "    model.compile(loss='categorical_crossentropy', optimizer='adam', metrics=['accuracy'])\n",
    "    # fit network\n",
    "\n",
    "    model.fit(trainX, trainy, epochs=epochs, batch_size=batch_size, verbose=verbose)\n",
    "    #model.save('/content/drive/My Drive/Colab Notebooks/LAR/LSTM.hdf5')\n",
    "    # evaluate model\n",
    "    _, accuracy = model.evaluate(testX, testy, batch_size=batch_size, verbose=0)\n",
    "    return accuracy, model"
   ]
  },
  {
   "cell_type": "code",
   "execution_count": 132,
   "id": "a9bd0320",
   "metadata": {},
   "outputs": [],
   "source": [
    "def run_LSTM_experiment(repeats=1):\n",
    "    # load data\n",
    "    trainX, trainy, testX, testy = load_dataset()\n",
    "    # repeat experiment\n",
    "    scores = list()\n",
    "    for r in range(repeats):\n",
    "        score,model = evaluate_LSTM_model(trainX, trainy, testX, testy)\n",
    "        score = score * 100.0\n",
    "        print('LSTM Model Accuracy: >%d: %.3f' % (r+1, score))\n",
    "        scores.append(score)\n",
    "    \n",
    "    return model"
   ]
  },
  {
   "cell_type": "code",
   "execution_count": 136,
   "id": "d46b858a",
   "metadata": {},
   "outputs": [
    {
     "name": "stdout",
     "output_type": "stream",
     "text": [
      "(7352, 128, 9) (7352, 1)\n",
      "(2947, 128, 9) (2947, 1)\n",
      "(7352, 128, 9) (7352, 6) (2947, 128, 9) (2947, 6)\n",
      "LSTM Model Accuracy: >1: 89.786\n"
     ]
    }
   ],
   "source": [
    "LSTM_model = run_LSTM_experiment()"
   ]
  },
  {
   "cell_type": "code",
   "execution_count": 137,
   "id": "119e75e7",
   "metadata": {},
   "outputs": [
    {
     "name": "stdout",
     "output_type": "stream",
     "text": [
      "(7352, 128, 9) (7352, 1)\n",
      "(2947, 128, 9) (2947, 1)\n",
      "(7352, 128, 9) (7352, 6) (2947, 128, 9) (2947, 6)\n"
     ]
    }
   ],
   "source": [
    "trainX, trainy, testX, testy = load_dataset()\n",
    "pred=LSTM_model.predict(testX)"
   ]
  },
  {
   "cell_type": "code",
   "execution_count": 138,
   "id": "1b45eb4c",
   "metadata": {},
   "outputs": [
    {
     "name": "stdout",
     "output_type": "stream",
     "text": [
      "                    precision    recall  f1-score   support\n",
      "\n",
      "           WALKING       0.89      1.00      0.94       443\n",
      "  WALKING UPSTAIRS       0.92      0.87      0.89       497\n",
      "WALKING DOWNSTAIRS       1.00      0.89      0.94       472\n",
      "           SITTING       0.84      0.80      0.82       515\n",
      "          STANDING       0.80      0.84      0.82       507\n",
      "            LAYING       0.96      1.00      0.98       513\n",
      "\n",
      "          accuracy                           0.90      2947\n",
      "         macro avg       0.90      0.90      0.90      2947\n",
      "      weighted avg       0.90      0.90      0.90      2947\n",
      "\n"
     ]
    }
   ],
   "source": [
    "labels = {1:'WALKING', 2:'WALKING UPSTAIRS', 3:'WALKING DOWNSTAIRS',\n",
    "          4:'SITTING', 5:'STANDING', 6:'LAYING'}\n",
    "\n",
    "pred=np.argmax(pred, axis=1)\n",
    "testy=np.argmax(testy, axis=1)\n",
    "\n",
    "from sklearn.metrics import classification_report, confusion_matrix\n",
    "print (classification_report(pred, testy,\n",
    "                            target_names=[l for l in labels.values()]))"
   ]
  },
  {
   "cell_type": "code",
   "execution_count": 139,
   "id": "6fc46632",
   "metadata": {},
   "outputs": [
    {
     "data": {
      "image/png": "[encoded data removed]",
      "text/plain": [
       "<Figure size 432x432 with 2 Axes>"
      ]
     },
     "metadata": {
      "needs_background": "light"
     },
     "output_type": "display_data"
    }
   ],
   "source": [
    "conf_mat = confusion_matrix(pred, testy)\n",
    "\n",
    "fig = plt.figure(figsize=(6,6))\n",
    "width = np.shape(conf_mat)[1]\n",
    "height = np.shape(conf_mat)[0]\n",
    "\n",
    "res = plt.imshow(np.array(conf_mat), cmap=plt.cm.summer, interpolation='nearest')\n",
    "for i, row in enumerate(conf_mat):\n",
    "    for j, c in enumerate(row):\n",
    "        if c>0:\n",
    "            plt.text(j-.2, i+.1, c, fontsize=16)\n",
    "            \n",
    "cb = fig.colorbar(res)\n",
    "plt.title('Confusion Matrix')\n",
    "_ = plt.xticks(range(6), [l for l in labels.values()], rotation=90)\n",
    "_ = plt.yticks(range(6), [l for l in labels.values()])"
   ]
  },
  {
   "cell_type": "code",
   "execution_count": 142,
   "id": "003db11a",
   "metadata": {},
   "outputs": [
    {
     "name": "stdout",
     "output_type": "stream",
     "text": [
      "1.1108097519758935\n"
     ]
    }
   ],
   "source": [
    "mse = sklearn.metrics.mean_squared_error(label, pred[::10])\n",
    "\n",
    "rmse = math.sqrt(mse)\n",
    "\n",
    "print(rmse)"
   ]
  },
  {
   "cell_type": "code",
   "execution_count": 141,
   "id": "d6e72d63",
   "metadata": {},
   "outputs": [
    {
     "name": "stdout",
     "output_type": "stream",
     "text": [
      "Accuracy: 0.12203389830508475\n"
     ]
    }
   ],
   "source": [
    "print(\"Accuracy:\", accuracy_score(label, pred[::10]))"
   ]
  },
  {
   "cell_type": "code",
   "execution_count": null,
   "id": "8e6d60d6",
   "metadata": {},
   "outputs": [],
   "source": []
  }
 ],
 "metadata": {
  "kernelspec": {
   "display_name": "Python 3",
   "language": "python",
   "name": "python3"
  },
  "language_info": {
   "codemirror_mode": {
    "name": "ipython",
    "version": 3
   },
   "file_extension": ".py",
   "mimetype": "text/x-python",
   "name": "python",
   "nbconvert_exporter": "python",
   "pygments_lexer": "ipython3",
   "version": "3.8.8"
  }
 },
 "nbformat": 4,
 "nbformat_minor": 5
}
